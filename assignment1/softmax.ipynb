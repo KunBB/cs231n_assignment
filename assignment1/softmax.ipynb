{
 "cells": [
  {
   "cell_type": "markdown",
   "metadata": {},
   "source": [
    "# Softmax exercise\n",
    "\n",
    "*Complete and hand in this completed worksheet (including its outputs and any supporting code outside of the worksheet) with your assignment submission. For more details see the [assignments page](http://vision.stanford.edu/teaching/cs231n/assignments.html) on the course website.*\n",
    "\n",
    "This exercise is analogous to the SVM exercise. You will:\n",
    "\n",
    "- implement a fully-vectorized **loss function** for the Softmax classifier\n",
    "- implement the fully-vectorized expression for its **analytic gradient**\n",
    "- **check your implementation** with numerical gradient\n",
    "- use a validation set to **tune the learning rate and regularization** strength\n",
    "- **optimize** the loss function with **SGD**\n",
    "- **visualize** the final learned weights\n"
   ]
  },
  {
   "cell_type": "code",
   "execution_count": 1,
   "metadata": {},
   "outputs": [],
   "source": [
    "import random\n",
    "import numpy as np\n",
    "from cs231n.data_utils import load_CIFAR10\n",
    "import matplotlib.pyplot as plt\n",
    "\n",
    "from __future__ import print_function\n",
    "\n",
    "%matplotlib inline\n",
    "plt.rcParams['figure.figsize'] = (10.0, 8.0) # set default size of plots\n",
    "plt.rcParams['image.interpolation'] = 'nearest'\n",
    "plt.rcParams['image.cmap'] = 'gray'\n",
    "\n",
    "# for auto-reloading extenrnal modules\n",
    "# see http://stackoverflow.com/questions/1907993/autoreload-of-modules-in-ipython\n",
    "%load_ext autoreload\n",
    "%autoreload 2"
   ]
  },
  {
   "cell_type": "code",
   "execution_count": 2,
   "metadata": {},
   "outputs": [
    {
     "name": "stdout",
     "output_type": "stream",
     "text": [
      "Train data shape:  (49000, 3073)\n",
      "Train labels shape:  (49000,)\n",
      "Validation data shape:  (1000, 3073)\n",
      "Validation labels shape:  (1000,)\n",
      "Test data shape:  (1000, 3073)\n",
      "Test labels shape:  (1000,)\n",
      "dev data shape:  (500, 3073)\n",
      "dev labels shape:  (500,)\n"
     ]
    }
   ],
   "source": [
    "def get_CIFAR10_data(num_training=49000, num_validation=1000, num_test=1000, num_dev=500):\n",
    "    \"\"\"\n",
    "    Load the CIFAR-10 dataset from disk and perform preprocessing to prepare\n",
    "    it for the linear classifier. These are the same steps as we used for the\n",
    "    SVM, but condensed to a single function.  \n",
    "    \"\"\"\n",
    "    # Load the raw CIFAR-10 data\n",
    "    cifar10_dir = 'cs231n/datasets/cifar-10-batches-py'\n",
    "    \n",
    "    X_train, y_train, X_test, y_test = load_CIFAR10(cifar10_dir)\n",
    "    \n",
    "    # subsample the data\n",
    "    mask = list(range(num_training, num_training + num_validation))\n",
    "    X_val = X_train[mask]\n",
    "    y_val = y_train[mask]\n",
    "    mask = list(range(num_training))\n",
    "    X_train = X_train[mask]\n",
    "    y_train = y_train[mask]\n",
    "    mask = list(range(num_test))\n",
    "    X_test = X_test[mask]\n",
    "    y_test = y_test[mask]\n",
    "    mask = np.random.choice(num_training, num_dev, replace=False)\n",
    "    X_dev = X_train[mask]\n",
    "    y_dev = y_train[mask]\n",
    "    \n",
    "    # Preprocessing: reshape the image data into rows\n",
    "    X_train = np.reshape(X_train, (X_train.shape[0], -1))\n",
    "    X_val = np.reshape(X_val, (X_val.shape[0], -1))\n",
    "    X_test = np.reshape(X_test, (X_test.shape[0], -1))\n",
    "    X_dev = np.reshape(X_dev, (X_dev.shape[0], -1))\n",
    "    \n",
    "    # Normalize the data: subtract the mean image\n",
    "    mean_image = np.mean(X_train, axis = 0)\n",
    "    X_train -= mean_image\n",
    "    X_val -= mean_image\n",
    "    X_test -= mean_image\n",
    "    X_dev -= mean_image\n",
    "    \n",
    "    # add bias dimension and transform into columns\n",
    "    X_train = np.hstack([X_train, np.ones((X_train.shape[0], 1))])\n",
    "    X_val = np.hstack([X_val, np.ones((X_val.shape[0], 1))])\n",
    "    X_test = np.hstack([X_test, np.ones((X_test.shape[0], 1))])\n",
    "    X_dev = np.hstack([X_dev, np.ones((X_dev.shape[0], 1))])\n",
    "    \n",
    "    return X_train, y_train, X_val, y_val, X_test, y_test, X_dev, y_dev\n",
    "\n",
    "\n",
    "# Cleaning up variables to prevent loading data multiple times (which may cause memory issue)\n",
    "try:\n",
    "   del X_train, y_train\n",
    "   del X_test, y_test\n",
    "   print('Clear previously loaded data.')\n",
    "except:\n",
    "   pass\n",
    "\n",
    "# Invoke the above function to get our data.\n",
    "X_train, y_train, X_val, y_val, X_test, y_test, X_dev, y_dev = get_CIFAR10_data()\n",
    "print('Train data shape: ', X_train.shape)\n",
    "print('Train labels shape: ', y_train.shape)\n",
    "print('Validation data shape: ', X_val.shape)\n",
    "print('Validation labels shape: ', y_val.shape)\n",
    "print('Test data shape: ', X_test.shape)\n",
    "print('Test labels shape: ', y_test.shape)\n",
    "print('dev data shape: ', X_dev.shape)\n",
    "print('dev labels shape: ', y_dev.shape)"
   ]
  },
  {
   "cell_type": "markdown",
   "metadata": {},
   "source": [
    "## Softmax Classifier\n",
    "\n",
    "Your code for this section will all be written inside **cs231n/classifiers/softmax.py**. \n"
   ]
  },
  {
   "cell_type": "code",
   "execution_count": 3,
   "metadata": {},
   "outputs": [
    {
     "name": "stdout",
     "output_type": "stream",
     "text": [
      "loss: 2.377536\n",
      "sanity check: 2.302585\n"
     ]
    }
   ],
   "source": [
    "# First implement the naive softmax loss function with nested loops.\n",
    "# Open the file cs231n/classifiers/softmax.py and implement the\n",
    "# softmax_loss_naive function.\n",
    "\n",
    "from cs231n.classifiers.softmax import softmax_loss_naive\n",
    "import time\n",
    "\n",
    "# Generate a random softmax weight matrix and use it to compute the loss.\n",
    "W = np.random.randn(3073, 10) * 0.0001\n",
    "loss, grad = softmax_loss_naive(W, X_dev, y_dev, 0.0)\n",
    "\n",
    "# As a rough sanity check, our loss should be something close to -log(0.1).\n",
    "print('loss: %f' % loss)\n",
    "print('sanity check: %f' % (-np.log(0.1)))"
   ]
  },
  {
   "cell_type": "markdown",
   "metadata": {},
   "source": [
    "## Inline Question 1:\n",
    "Why do we expect our loss to be close to -log(0.1)? Explain briefly.**\n",
    "\n",
    "**Your answer:** *Fill this in*\n",
    "初始时所有类别分数应近似相等，则十个类别的Ｐ＝-ln(0.1)"
   ]
  },
  {
   "cell_type": "code",
   "execution_count": 4,
   "metadata": {},
   "outputs": [
    {
     "name": "stdout",
     "output_type": "stream",
     "text": [
      "numerical: 1.010010 analytic: 1.010010, relative error: 5.155934e-08\n",
      "numerical: 0.919789 analytic: 0.919789, relative error: 7.025652e-08\n",
      "numerical: 0.841043 analytic: 0.841043, relative error: 1.498029e-08\n",
      "numerical: -0.533175 analytic: -0.533175, relative error: 1.045955e-07\n",
      "numerical: -2.210602 analytic: -2.210602, relative error: 7.944520e-09\n",
      "numerical: 1.154737 analytic: 1.154737, relative error: 2.521513e-09\n",
      "numerical: -0.577695 analytic: -0.577695, relative error: 5.257283e-08\n",
      "numerical: -1.099806 analytic: -1.099806, relative error: 3.029715e-08\n",
      "numerical: 1.992471 analytic: 1.992471, relative error: 9.817743e-09\n",
      "numerical: 2.786286 analytic: 2.786286, relative error: 4.867405e-09\n",
      " \n",
      "numerical: 2.524809 analytic: 2.524809, relative error: 9.498904e-09\n",
      "numerical: 1.210893 analytic: 1.210893, relative error: 1.325396e-08\n",
      "numerical: -3.641242 analytic: -3.641242, relative error: 4.047313e-09\n",
      "numerical: 1.095754 analytic: 1.095754, relative error: 1.036008e-08\n",
      "numerical: 0.866863 analytic: 0.866863, relative error: 1.705221e-08\n",
      "numerical: 0.649463 analytic: 0.649463, relative error: 2.987333e-08\n",
      "numerical: 0.319198 analytic: 0.319198, relative error: 9.307088e-08\n",
      "numerical: -0.274065 analytic: -0.274065, relative error: 1.882721e-07\n",
      "numerical: -1.691291 analytic: -1.691291, relative error: 1.340747e-08\n",
      "numerical: -1.361426 analytic: -1.361426, relative error: 6.686273e-09\n"
     ]
    }
   ],
   "source": [
    "# Complete the implementation of softmax_loss_naive and implement a (naive)\n",
    "# version of the gradient that uses nested loops.\n",
    "loss, grad = softmax_loss_naive(W, X_dev, y_dev, 0.0)\n",
    "\n",
    "# As we did for the SVM, use numeric gradient checking as a debugging tool.\n",
    "# The numeric gradient should be close to the analytic gradient.\n",
    "from cs231n.gradient_check import grad_check_sparse\n",
    "f = lambda w: softmax_loss_naive(w, X_dev, y_dev, 0.0)[0]\n",
    "grad_numerical = grad_check_sparse(f, W, grad, 10)\n",
    "print(' ')\n",
    "# similar to SVM case, do another gradient check with regularization\n",
    "loss, grad = softmax_loss_naive(W, X_dev, y_dev, 5e1)\n",
    "f = lambda w: softmax_loss_naive(w, X_dev, y_dev, 5e1)[0]\n",
    "grad_numerical = grad_check_sparse(f, W, grad, 10)"
   ]
  },
  {
   "cell_type": "code",
   "execution_count": 5,
   "metadata": {},
   "outputs": [
    {
     "name": "stdout",
     "output_type": "stream",
     "text": [
      "naive loss: 2.377536e+00 computed in 0.125048s\n",
      "vectorized loss: 2.377536e+00 computed in 0.008238s\n",
      "Loss difference: 0.000000\n",
      "Gradient difference: 0.000000\n"
     ]
    }
   ],
   "source": [
    "# Now that we have a naive implementation of the softmax loss function and its gradient,\n",
    "# implement a vectorized version in softmax_loss_vectorized.\n",
    "# The two versions should compute the same results, but the vectorized version should be\n",
    "# much faster.\n",
    "tic = time.time()\n",
    "loss_naive, grad_naive = softmax_loss_naive(W, X_dev, y_dev, 0.000005)\n",
    "toc = time.time()\n",
    "print('naive loss: %e computed in %fs' % (loss_naive, toc - tic))\n",
    "\n",
    "from cs231n.classifiers.softmax import softmax_loss_vectorized\n",
    "tic = time.time()\n",
    "loss_vectorized, grad_vectorized = softmax_loss_vectorized(W, X_dev, y_dev, 0.000005)\n",
    "toc = time.time()\n",
    "print('vectorized loss: %e computed in %fs' % (loss_vectorized, toc - tic))\n",
    "\n",
    "# As we did for the SVM, we use the Frobenius norm to compare the two versions\n",
    "# of the gradient.\n",
    "grad_difference = np.linalg.norm(grad_naive - grad_vectorized, ord='fro')\n",
    "print('Loss difference: %f' % np.abs(loss_naive - loss_vectorized))\n",
    "print('Gradient difference: %f' % grad_difference)"
   ]
  },
  {
   "cell_type": "code",
   "execution_count": 6,
   "metadata": {},
   "outputs": [
    {
     "name": "stdout",
     "output_type": "stream",
     "text": [
      "lr 1.000000e-07 reg 2.500000e+04 train accuracy: 0.350408 val accuracy: 0.369000\n",
      "lr 1.000000e-07 reg 2.750000e+04 train accuracy: 0.348898 val accuracy: 0.360000\n",
      "lr 1.000000e-07 reg 3.000000e+04 train accuracy: 0.345122 val accuracy: 0.368000\n",
      "lr 1.000000e-07 reg 3.250000e+04 train accuracy: 0.341796 val accuracy: 0.356000\n",
      "lr 1.000000e-07 reg 3.500000e+04 train accuracy: 0.340408 val accuracy: 0.360000\n",
      "lr 1.000000e-07 reg 3.750000e+04 train accuracy: 0.333918 val accuracy: 0.353000\n",
      "lr 1.000000e-07 reg 4.000000e+04 train accuracy: 0.336755 val accuracy: 0.342000\n",
      "lr 1.000000e-07 reg 4.250000e+04 train accuracy: 0.336143 val accuracy: 0.353000\n",
      "lr 1.000000e-07 reg 4.500000e+04 train accuracy: 0.336184 val accuracy: 0.350000\n",
      "lr 1.000000e-07 reg 4.750000e+04 train accuracy: 0.329490 val accuracy: 0.348000\n",
      "lr 1.400000e-07 reg 2.500000e+04 train accuracy: 0.348082 val accuracy: 0.361000\n",
      "lr 1.400000e-07 reg 2.750000e+04 train accuracy: 0.350898 val accuracy: 0.370000\n",
      "lr 1.400000e-07 reg 3.000000e+04 train accuracy: 0.349163 val accuracy: 0.364000\n",
      "lr 1.400000e-07 reg 3.250000e+04 train accuracy: 0.334673 val accuracy: 0.353000\n",
      "lr 1.400000e-07 reg 3.500000e+04 train accuracy: 0.339653 val accuracy: 0.359000\n",
      "lr 1.400000e-07 reg 3.750000e+04 train accuracy: 0.333265 val accuracy: 0.350000\n",
      "lr 1.400000e-07 reg 4.000000e+04 train accuracy: 0.334980 val accuracy: 0.349000\n",
      "lr 1.400000e-07 reg 4.250000e+04 train accuracy: 0.336143 val accuracy: 0.351000\n",
      "lr 1.400000e-07 reg 4.500000e+04 train accuracy: 0.334918 val accuracy: 0.347000\n",
      "lr 1.400000e-07 reg 4.750000e+04 train accuracy: 0.329898 val accuracy: 0.349000\n",
      "lr 1.800000e-07 reg 2.500000e+04 train accuracy: 0.351571 val accuracy: 0.364000\n",
      "lr 1.800000e-07 reg 2.750000e+04 train accuracy: 0.349490 val accuracy: 0.356000\n",
      "lr 1.800000e-07 reg 3.000000e+04 train accuracy: 0.344327 val accuracy: 0.359000\n",
      "lr 1.800000e-07 reg 3.250000e+04 train accuracy: 0.338959 val accuracy: 0.350000\n",
      "lr 1.800000e-07 reg 3.500000e+04 train accuracy: 0.336204 val accuracy: 0.353000\n",
      "lr 1.800000e-07 reg 3.750000e+04 train accuracy: 0.342592 val accuracy: 0.353000\n",
      "lr 1.800000e-07 reg 4.000000e+04 train accuracy: 0.340388 val accuracy: 0.348000\n",
      "lr 1.800000e-07 reg 4.250000e+04 train accuracy: 0.325163 val accuracy: 0.336000\n",
      "lr 1.800000e-07 reg 4.500000e+04 train accuracy: 0.329857 val accuracy: 0.344000\n",
      "lr 1.800000e-07 reg 4.750000e+04 train accuracy: 0.332551 val accuracy: 0.344000\n",
      "lr 2.200000e-07 reg 2.500000e+04 train accuracy: 0.350918 val accuracy: 0.364000\n",
      "lr 2.200000e-07 reg 2.750000e+04 train accuracy: 0.341224 val accuracy: 0.354000\n",
      "lr 2.200000e-07 reg 3.000000e+04 train accuracy: 0.348143 val accuracy: 0.362000\n",
      "lr 2.200000e-07 reg 3.250000e+04 train accuracy: 0.342531 val accuracy: 0.351000\n",
      "lr 2.200000e-07 reg 3.500000e+04 train accuracy: 0.343571 val accuracy: 0.357000\n",
      "lr 2.200000e-07 reg 3.750000e+04 train accuracy: 0.335408 val accuracy: 0.352000\n",
      "lr 2.200000e-07 reg 4.000000e+04 train accuracy: 0.337898 val accuracy: 0.357000\n",
      "lr 2.200000e-07 reg 4.250000e+04 train accuracy: 0.329449 val accuracy: 0.348000\n",
      "lr 2.200000e-07 reg 4.500000e+04 train accuracy: 0.325367 val accuracy: 0.340000\n",
      "lr 2.200000e-07 reg 4.750000e+04 train accuracy: 0.322204 val accuracy: 0.335000\n",
      "lr 2.600000e-07 reg 2.500000e+04 train accuracy: 0.341122 val accuracy: 0.347000\n",
      "lr 2.600000e-07 reg 2.750000e+04 train accuracy: 0.348306 val accuracy: 0.357000\n",
      "lr 2.600000e-07 reg 3.000000e+04 train accuracy: 0.346612 val accuracy: 0.365000\n",
      "lr 2.600000e-07 reg 3.250000e+04 train accuracy: 0.343000 val accuracy: 0.357000\n",
      "lr 2.600000e-07 reg 3.500000e+04 train accuracy: 0.335571 val accuracy: 0.345000\n",
      "lr 2.600000e-07 reg 3.750000e+04 train accuracy: 0.340224 val accuracy: 0.347000\n",
      "lr 2.600000e-07 reg 4.000000e+04 train accuracy: 0.332143 val accuracy: 0.355000\n",
      "lr 2.600000e-07 reg 4.250000e+04 train accuracy: 0.330571 val accuracy: 0.356000\n",
      "lr 2.600000e-07 reg 4.500000e+04 train accuracy: 0.325633 val accuracy: 0.345000\n",
      "lr 2.600000e-07 reg 4.750000e+04 train accuracy: 0.333265 val accuracy: 0.344000\n",
      "lr 3.000000e-07 reg 2.500000e+04 train accuracy: 0.346102 val accuracy: 0.358000\n",
      "lr 3.000000e-07 reg 2.750000e+04 train accuracy: 0.350469 val accuracy: 0.362000\n",
      "lr 3.000000e-07 reg 3.000000e+04 train accuracy: 0.337408 val accuracy: 0.354000\n",
      "lr 3.000000e-07 reg 3.250000e+04 train accuracy: 0.340857 val accuracy: 0.355000\n",
      "lr 3.000000e-07 reg 3.500000e+04 train accuracy: 0.333041 val accuracy: 0.350000\n",
      "lr 3.000000e-07 reg 3.750000e+04 train accuracy: 0.338653 val accuracy: 0.347000\n",
      "lr 3.000000e-07 reg 4.000000e+04 train accuracy: 0.339592 val accuracy: 0.356000\n",
      "lr 3.000000e-07 reg 4.250000e+04 train accuracy: 0.329510 val accuracy: 0.352000\n",
      "lr 3.000000e-07 reg 4.500000e+04 train accuracy: 0.326429 val accuracy: 0.343000\n",
      "lr 3.000000e-07 reg 4.750000e+04 train accuracy: 0.323020 val accuracy: 0.339000\n",
      "lr 3.400000e-07 reg 2.500000e+04 train accuracy: 0.344429 val accuracy: 0.350000\n",
      "lr 3.400000e-07 reg 2.750000e+04 train accuracy: 0.344265 val accuracy: 0.367000\n",
      "lr 3.400000e-07 reg 3.000000e+04 train accuracy: 0.339449 val accuracy: 0.353000\n",
      "lr 3.400000e-07 reg 3.250000e+04 train accuracy: 0.348857 val accuracy: 0.363000\n",
      "lr 3.400000e-07 reg 3.500000e+04 train accuracy: 0.342551 val accuracy: 0.352000\n",
      "lr 3.400000e-07 reg 3.750000e+04 train accuracy: 0.337980 val accuracy: 0.344000\n",
      "lr 3.400000e-07 reg 4.000000e+04 train accuracy: 0.334388 val accuracy: 0.353000\n",
      "lr 3.400000e-07 reg 4.250000e+04 train accuracy: 0.319184 val accuracy: 0.339000\n",
      "lr 3.400000e-07 reg 4.500000e+04 train accuracy: 0.329918 val accuracy: 0.350000\n",
      "lr 3.400000e-07 reg 4.750000e+04 train accuracy: 0.336673 val accuracy: 0.350000\n",
      "lr 3.800000e-07 reg 2.500000e+04 train accuracy: 0.345122 val accuracy: 0.371000\n",
      "lr 3.800000e-07 reg 2.750000e+04 train accuracy: 0.337857 val accuracy: 0.357000\n",
      "lr 3.800000e-07 reg 3.000000e+04 train accuracy: 0.340551 val accuracy: 0.347000\n",
      "lr 3.800000e-07 reg 3.250000e+04 train accuracy: 0.342286 val accuracy: 0.350000\n",
      "lr 3.800000e-07 reg 3.500000e+04 train accuracy: 0.337184 val accuracy: 0.351000\n",
      "lr 3.800000e-07 reg 3.750000e+04 train accuracy: 0.337551 val accuracy: 0.355000\n",
      "lr 3.800000e-07 reg 4.000000e+04 train accuracy: 0.330265 val accuracy: 0.349000\n",
      "lr 3.800000e-07 reg 4.250000e+04 train accuracy: 0.331490 val accuracy: 0.341000\n",
      "lr 3.800000e-07 reg 4.500000e+04 train accuracy: 0.335939 val accuracy: 0.351000\n",
      "lr 3.800000e-07 reg 4.750000e+04 train accuracy: 0.323429 val accuracy: 0.335000\n",
      "lr 4.200000e-07 reg 2.500000e+04 train accuracy: 0.350592 val accuracy: 0.367000\n",
      "lr 4.200000e-07 reg 2.750000e+04 train accuracy: 0.342633 val accuracy: 0.355000\n",
      "lr 4.200000e-07 reg 3.000000e+04 train accuracy: 0.336796 val accuracy: 0.356000\n",
      "lr 4.200000e-07 reg 3.250000e+04 train accuracy: 0.338959 val accuracy: 0.335000\n",
      "lr 4.200000e-07 reg 3.500000e+04 train accuracy: 0.341878 val accuracy: 0.363000\n",
      "lr 4.200000e-07 reg 3.750000e+04 train accuracy: 0.336878 val accuracy: 0.339000\n",
      "lr 4.200000e-07 reg 4.000000e+04 train accuracy: 0.335796 val accuracy: 0.347000\n",
      "lr 4.200000e-07 reg 4.250000e+04 train accuracy: 0.325816 val accuracy: 0.352000\n",
      "lr 4.200000e-07 reg 4.500000e+04 train accuracy: 0.328347 val accuracy: 0.335000\n",
      "lr 4.200000e-07 reg 4.750000e+04 train accuracy: 0.325306 val accuracy: 0.338000\n",
      "lr 4.600000e-07 reg 2.500000e+04 train accuracy: 0.354612 val accuracy: 0.361000\n",
      "lr 4.600000e-07 reg 2.750000e+04 train accuracy: 0.347816 val accuracy: 0.364000\n",
      "lr 4.600000e-07 reg 3.000000e+04 train accuracy: 0.344367 val accuracy: 0.346000\n",
      "lr 4.600000e-07 reg 3.250000e+04 train accuracy: 0.336510 val accuracy: 0.352000\n",
      "lr 4.600000e-07 reg 3.500000e+04 train accuracy: 0.339653 val accuracy: 0.352000\n",
      "lr 4.600000e-07 reg 3.750000e+04 train accuracy: 0.338551 val accuracy: 0.352000\n",
      "lr 4.600000e-07 reg 4.000000e+04 train accuracy: 0.334816 val accuracy: 0.357000\n",
      "lr 4.600000e-07 reg 4.250000e+04 train accuracy: 0.330571 val accuracy: 0.352000\n",
      "lr 4.600000e-07 reg 4.500000e+04 train accuracy: 0.322612 val accuracy: 0.333000\n",
      "lr 4.600000e-07 reg 4.750000e+04 train accuracy: 0.330367 val accuracy: 0.350000\n",
      "best validation accuracy achieved during cross-validation: 0.371000\n"
     ]
    }
   ],
   "source": [
    "# Use the validation set to tune hyperparameters (regularization strength and\n",
    "# learning rate). You should experiment with different ranges for the learning\n",
    "# rates and regularization strengths; if you are careful you should be able to\n",
    "# get a classification accuracy of over 0.35 on the validation set.\n",
    "from cs231n.classifiers import Softmax\n",
    "results = {}\n",
    "best_val = -1\n",
    "best_softmax = None\n",
    "learning_rates = [1e-7, 5e-7]\n",
    "regularization_strengths = [2.5e4, 5e4]\n",
    "\n",
    "################################################################################\n",
    "# TODO:                                                                        #\n",
    "# Use the validation set to set the learning rate and regularization strength. #\n",
    "# This should be identical to the validation that you did for the SVM; save    #\n",
    "# the best trained softmax classifer in best_softmax.                          #\n",
    "################################################################################\n",
    "num_splt = 10\n",
    "for i in range(num_splt):\n",
    "    for j in range(num_splt):\n",
    "        learning_rate_ij = learning_rates[0] + i * (learning_rates[-1] - learning_rates[0]) / num_splt\n",
    "        reg_ij = regularization_strengths[0] + j * (regularization_strengths[-1] - regularization_strengths[0])/ num_splt\n",
    "        softmax = Softmax()\n",
    "        loss_hist = softmax.train(X_train, y_train, learning_rate=learning_rate_ij, reg=reg_ij,\n",
    "                              num_iters=1500, verbose=False)\n",
    "        \n",
    "        y_train_pred = softmax.predict(X_train)\n",
    "        accuracy_train = np.mean(y_train == y_train_pred)\n",
    "        y_val_pred = softmax.predict(X_val)\n",
    "        accuracy_val = np.mean(y_val == y_val_pred)\n",
    "        \n",
    "        results[(learning_rate_ij, reg_ij)] = (accuracy_train, accuracy_val) \n",
    "        \n",
    "        if accuracy_val > best_val:\n",
    "            best_val = accuracy_val\n",
    "            best_softmax = softmax\n",
    "################################################################################\n",
    "#                              END OF YOUR CODE                                #\n",
    "################################################################################\n",
    "    \n",
    "# Print out results.\n",
    "for lr, reg in sorted(results):\n",
    "    train_accuracy, val_accuracy = results[(lr, reg)]\n",
    "    print('lr %e reg %e train accuracy: %f val accuracy: %f' % (\n",
    "                lr, reg, train_accuracy, val_accuracy))\n",
    "    \n",
    "print('best validation accuracy achieved during cross-validation: %f' % best_val)"
   ]
  },
  {
   "cell_type": "code",
   "execution_count": 7,
   "metadata": {},
   "outputs": [
    {
     "name": "stdout",
     "output_type": "stream",
     "text": [
      "softmax on raw pixels final test set accuracy: 0.362000\n"
     ]
    }
   ],
   "source": [
    "# evaluate on test set\n",
    "# Evaluate the best softmax on test set\n",
    "y_test_pred = best_softmax.predict(X_test)\n",
    "test_accuracy = np.mean(y_test == y_test_pred)\n",
    "print('softmax on raw pixels final test set accuracy: %f' % (test_accuracy, ))"
   ]
  },
  {
   "cell_type": "markdown",
   "metadata": {},
   "source": [
    "**Inline Question** - *True or False*\n",
    "\n",
    "It's possible to add a new datapoint to a training set that would leave the SVM loss unchanged, but this is not the case with the Softmax classifier loss.\n",
    "\n",
    "*Your answer*:\n",
    "\n",
    "*Your explanation*:"
   ]
  },
  {
   "cell_type": "code",
   "execution_count": 8,
   "metadata": {},
   "outputs": [
    {
     "data": {
      "image/png": "[encoded data removed]",
      "text/plain": [
       "<Figure size 432x288 with 10 Axes>"
      ]
     },
     "metadata": {},
     "output_type": "display_data"
    }
   ],
   "source": [
    "# Visualize the learned weights for each class\n",
    "w = best_softmax.W[:-1,:] # strip out the bias\n",
    "w = w.reshape(32, 32, 3, 10)\n",
    "\n",
    "w_min, w_max = np.min(w), np.max(w)\n",
    "\n",
    "classes = ['plane', 'car', 'bird', 'cat', 'deer', 'dog', 'frog', 'horse', 'ship', 'truck']\n",
    "for i in range(10):\n",
    "    plt.subplot(2, 5, i + 1)\n",
    "    \n",
    "    # Rescale the weights to be between 0 and 255\n",
    "    wimg = 255.0 * (w[:, :, :, i].squeeze() - w_min) / (w_max - w_min)\n",
    "    plt.imshow(wimg.astype('uint8'))\n",
    "    plt.axis('off')\n",
    "    plt.title(classes[i])"
   ]
  },
  {
   "cell_type": "code",
   "execution_count": null,
   "metadata": {},
   "outputs": [],
   "source": []
  }
 ],
 "metadata": {
  "kernelspec": {
   "display_name": "Python 3",
   "language": "python",
   "name": "python3"
  },
  "language_info": {
   "codemirror_mode": {
    "name": "ipython",
    "version": 3
   },
   "file_extension": ".py",
   "mimetype": "text/x-python",
   "name": "python",
   "nbconvert_exporter": "python",
   "pygments_lexer": "ipython3",
   "version": "3.6.2"
  }
 },
 "nbformat": 4,
 "nbformat_minor": 1
}
